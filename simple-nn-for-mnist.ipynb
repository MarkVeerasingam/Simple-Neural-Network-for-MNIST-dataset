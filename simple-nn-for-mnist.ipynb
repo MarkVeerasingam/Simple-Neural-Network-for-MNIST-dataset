{
 "cells": [
  {
   "cell_type": "code",
   "execution_count": 1,
   "id": "df1fe659",
   "metadata": {
    "_cell_guid": "b1076dfc-b9ad-4769-8c92-a6c4dae69d19",
    "_uuid": "8f2839f25d086af736a60e9eeb907d3b93b6e0e5",
    "execution": {
     "iopub.execute_input": "2023-05-29T20:41:21.921962Z",
     "iopub.status.busy": "2023-05-29T20:41:21.921292Z",
     "iopub.status.idle": "2023-05-29T20:41:21.931649Z",
     "shell.execute_reply": "2023-05-29T20:41:21.930665Z"
    },
    "papermill": {
     "duration": 0.016941,
     "end_time": "2023-05-29T20:41:21.933832",
     "exception": false,
     "start_time": "2023-05-29T20:41:21.916891",
     "status": "completed"
    },
    "tags": []
   },
   "outputs": [],
   "source": [
    "import numpy as np # linear algebra\n",
    "import pandas as pd # data processing/reading data\n",
    "from matplotlib import pyplot as plt "
   ]
  },
  {
   "cell_type": "code",
   "execution_count": 2,
   "id": "4d727315",
   "metadata": {
    "execution": {
     "iopub.execute_input": "2023-05-29T20:41:21.941789Z",
     "iopub.status.busy": "2023-05-29T20:41:21.941170Z",
     "iopub.status.idle": "2023-05-29T20:41:24.485955Z",
     "shell.execute_reply": "2023-05-29T20:41:24.484586Z"
    },
    "papermill": {
     "duration": 2.55173,
     "end_time": "2023-05-29T20:41:24.488499",
     "exception": false,
     "start_time": "2023-05-29T20:41:21.936769",
     "status": "completed"
    },
    "tags": []
   },
   "outputs": [],
   "source": [
    "data = pd.read_csv('/kaggle/input/digit-recognizer/train.csv')"
   ]
  },
  {
   "cell_type": "code",
   "execution_count": 3,
   "id": "2e65ba85",
   "metadata": {
    "execution": {
     "iopub.execute_input": "2023-05-29T20:41:24.494756Z",
     "iopub.status.busy": "2023-05-29T20:41:24.494405Z",
     "iopub.status.idle": "2023-05-29T20:41:24.936173Z",
     "shell.execute_reply": "2023-05-29T20:41:24.935295Z"
    },
    "papermill": {
     "duration": 0.447445,
     "end_time": "2023-05-29T20:41:24.938396",
     "exception": false,
     "start_time": "2023-05-29T20:41:24.490951",
     "status": "completed"
    },
    "tags": []
   },
   "outputs": [],
   "source": [
    "data = np.array(data)\n",
    "m, n = data.shape\n",
    "np.random.shuffle(data) # shuffle before splitting into dev and training sets\n",
    "\n",
    "data_dev = data[0:1000].T\n",
    "Y_dev = data_dev[0]\n",
    "X_dev = data_dev[1:n]\n",
    "X_dev = X_dev / 255\n",
    "\n",
    "data_train = data[1000:m].T\n",
    "Y_train = data_train[0]\n",
    "X_train = data_train[1:n]\n",
    "X_train = X_train / 255\n",
    "_,m_train = X_train.shape"
   ]
  },
  {
   "cell_type": "code",
   "execution_count": 4,
   "id": "aa2991b0",
   "metadata": {
    "execution": {
     "iopub.execute_input": "2023-05-29T20:41:24.944037Z",
     "iopub.status.busy": "2023-05-29T20:41:24.943701Z",
     "iopub.status.idle": "2023-05-29T20:41:24.952118Z",
     "shell.execute_reply": "2023-05-29T20:41:24.951304Z"
    },
    "papermill": {
     "duration": 0.013072,
     "end_time": "2023-05-29T20:41:24.953790",
     "exception": false,
     "start_time": "2023-05-29T20:41:24.940718",
     "status": "completed"
    },
    "tags": []
   },
   "outputs": [
    {
     "data": {
      "text/plain": [
       "array([7, 7, 1, ..., 9, 5, 4])"
      ]
     },
     "execution_count": 4,
     "metadata": {},
     "output_type": "execute_result"
    }
   ],
   "source": [
    "Y_train"
   ]
  },
  {
   "cell_type": "code",
   "execution_count": 5,
   "id": "46fdfb51",
   "metadata": {
    "execution": {
     "iopub.execute_input": "2023-05-29T20:41:24.959961Z",
     "iopub.status.busy": "2023-05-29T20:41:24.959485Z",
     "iopub.status.idle": "2023-05-29T20:41:24.969432Z",
     "shell.execute_reply": "2023-05-29T20:41:24.968571Z"
    },
    "papermill": {
     "duration": 0.015105,
     "end_time": "2023-05-29T20:41:24.971242",
     "exception": false,
     "start_time": "2023-05-29T20:41:24.956137",
     "status": "completed"
    },
    "tags": []
   },
   "outputs": [],
   "source": [
    "def init_params(): \n",
    "    W1 = np.random.rand(10, 784) - 0.5\n",
    "    b1 = np.random.rand(10, 1) - 0.5\n",
    "    W2 = np.random.rand(10, 10) - 0.5\n",
    "    b2 = np.random.rand(10, 1) - 0.5\n",
    "    return W1, b1, W2, b2\n",
    "\n",
    "def ReLU(Z):\n",
    "    return np.maximum(Z, 0)\n",
    "\n",
    "def softmax(Z):\n",
    "    A = np.exp(Z)/sum(np.exp(Z))\n",
    "    return A\n",
    "    \n",
    "def forward_prop(W1, b1, W2, b2, X):\n",
    "    Z1 = W1.dot(X) + b1 # Z1 = W1*A1 + b1\n",
    "    A1 = ReLU(Z1)\n",
    "    Z2 = W2.dot(A1) + b2\n",
    "    A2 = softmax(Z2)\n",
    "    return Z1, A1, Z2, A2\n",
    "\n",
    "def deriv_ReLU(Z):\n",
    "    return Z > 0\n",
    "\n",
    "def one_hot(Y):\n",
    "    one_hot_Y = np.zeros((Y.size, Y.max() + 1))\n",
    "    one_hot_Y[np.arange(Y.size), Y] = 1\n",
    "    one_hot_Y = one_hot_Y.T\n",
    "    return one_hot_Y\n",
    "\n",
    "def back_prop(Z1, A1, Z2, A2, W1, W2, X, Y):\n",
    "    one_hot_Y = one_hot(Y)\n",
    "    dZ2 = A2 - one_hot_Y\n",
    "    dW2 = 1 / m * dZ2.dot(A1.T)\n",
    "    db2 = 1 / m * np.sum(dZ2)\n",
    "    \n",
    "    dZ1 = W2.T.dot(dZ2) * deriv_ReLU(Z1)\n",
    "    dW1 = 1 / m * dZ1.dot(X.T)\n",
    "    db1 = 1 / m * np.sum(dZ1)\n",
    "    return dW1, db1, dW2, db2\n",
    "\n",
    "def update_params(W1, b1, W2, b2, dW1, db1, dW2, db2, alpha):\n",
    "    W1 = W1 - alpha * dW1\n",
    "    b1 = b1 - alpha * db1\n",
    "    W2 = W2 - alpha * dW2\n",
    "    b2 = b2 - alpha * db2\n",
    "    return W1, b1, W2, b2"
   ]
  },
  {
   "cell_type": "code",
   "execution_count": 6,
   "id": "903ffc73",
   "metadata": {
    "execution": {
     "iopub.execute_input": "2023-05-29T20:41:24.977398Z",
     "iopub.status.busy": "2023-05-29T20:41:24.976814Z",
     "iopub.status.idle": "2023-05-29T20:41:24.983315Z",
     "shell.execute_reply": "2023-05-29T20:41:24.982513Z"
    },
    "papermill": {
     "duration": 0.011535,
     "end_time": "2023-05-29T20:41:24.985277",
     "exception": false,
     "start_time": "2023-05-29T20:41:24.973742",
     "status": "completed"
    },
    "tags": []
   },
   "outputs": [],
   "source": [
    "def get_predictions(A2):\n",
    "    return np.argmax(A2, 0)\n",
    "\n",
    "def get_accuracy(predictions, Y):\n",
    "    print(predictions, Y)\n",
    "    return np.sum(predictions == Y) / Y.size\n",
    "\n",
    "def gradient_descent(X, Y, alpha, iterations):\n",
    "    W1, b1, W2, b2 = init_params()\n",
    "    for i in range(iterations):\n",
    "        Z1, A1, Z2, A2 = forward_prop(W1, b1, W2, b2, X)\n",
    "        dW1, db1, dW2, db2 = back_prop(Z1, A1, Z2, A2, W1, W2, X, Y)\n",
    "        W1, b1, W2, b2 = update_params(W1, b1, W2, b2, dW1, db1, dW2, db2, alpha)\n",
    "        if i % 10 == 0:\n",
    "            print(\"Iteration: \", i)\n",
    "            predictions = get_predictions(A2)\n",
    "            print(get_accuracy(predictions, Y))\n",
    "    return W1,b1, W2, b2"
   ]
  },
  {
   "cell_type": "code",
   "execution_count": 7,
   "id": "d68e660f",
   "metadata": {
    "execution": {
     "iopub.execute_input": "2023-05-29T20:41:24.991172Z",
     "iopub.status.busy": "2023-05-29T20:41:24.990881Z",
     "iopub.status.idle": "2023-05-29T20:41:59.316783Z",
     "shell.execute_reply": "2023-05-29T20:41:59.316048Z"
    },
    "papermill": {
     "duration": 34.331421,
     "end_time": "2023-05-29T20:41:59.319082",
     "exception": false,
     "start_time": "2023-05-29T20:41:24.987661",
     "status": "completed"
    },
    "tags": []
   },
   "outputs": [
    {
     "name": "stdout",
     "output_type": "stream",
     "text": [
      "Iteration:  0\n",
      "[1 0 7 ... 1 2 1] [7 7 1 ... 9 5 4]\n",
      "0.051829268292682924\n",
      "Iteration:  10\n",
      "[7 0 0 ... 4 0 1] [7 7 1 ... 9 5 4]\n",
      "0.10948780487804878\n",
      "Iteration:  20\n",
      "[7 0 0 ... 4 0 1] [7 7 1 ... 9 5 4]\n",
      "0.15934146341463415\n",
      "Iteration:  30\n",
      "[7 7 0 ... 4 0 1] [7 7 1 ... 9 5 4]\n",
      "0.20670731707317072\n",
      "Iteration:  40\n",
      "[7 7 0 ... 4 0 1] [7 7 1 ... 9 5 4]\n",
      "0.2455609756097561\n",
      "Iteration:  50\n",
      "[7 7 0 ... 4 0 1] [7 7 1 ... 9 5 4]\n",
      "0.280609756097561\n",
      "Iteration:  60\n",
      "[7 7 0 ... 4 0 1] [7 7 1 ... 9 5 4]\n",
      "0.31117073170731707\n",
      "Iteration:  70\n",
      "[7 7 0 ... 4 0 1] [7 7 1 ... 9 5 4]\n",
      "0.33963414634146344\n",
      "Iteration:  80\n",
      "[7 7 1 ... 4 0 1] [7 7 1 ... 9 5 4]\n",
      "0.37885365853658537\n",
      "Iteration:  90\n",
      "[7 7 1 ... 4 5 2] [7 7 1 ... 9 5 4]\n",
      "0.43370731707317073\n",
      "Iteration:  100\n",
      "[7 7 1 ... 4 5 6] [7 7 1 ... 9 5 4]\n",
      "0.47504878048780486\n",
      "Iteration:  110\n",
      "[9 7 1 ... 9 5 6] [7 7 1 ... 9 5 4]\n",
      "0.5115365853658537\n",
      "Iteration:  120\n",
      "[9 7 1 ... 9 5 6] [7 7 1 ... 9 5 4]\n",
      "0.545829268292683\n",
      "Iteration:  130\n",
      "[9 7 1 ... 9 5 6] [7 7 1 ... 9 5 4]\n",
      "0.5768780487804878\n",
      "Iteration:  140\n",
      "[9 7 1 ... 9 5 6] [7 7 1 ... 9 5 4]\n",
      "0.6054146341463414\n",
      "Iteration:  150\n",
      "[9 7 1 ... 9 5 6] [7 7 1 ... 9 5 4]\n",
      "0.6277560975609756\n",
      "Iteration:  160\n",
      "[9 7 1 ... 9 5 6] [7 7 1 ... 9 5 4]\n",
      "0.6492926829268293\n",
      "Iteration:  170\n",
      "[9 7 1 ... 9 5 4] [7 7 1 ... 9 5 4]\n",
      "0.6663414634146342\n",
      "Iteration:  180\n",
      "[9 7 1 ... 9 5 4] [7 7 1 ... 9 5 4]\n",
      "0.6826585365853659\n",
      "Iteration:  190\n",
      "[9 7 1 ... 9 5 4] [7 7 1 ... 9 5 4]\n",
      "0.6957073170731707\n",
      "Iteration:  200\n",
      "[9 7 1 ... 9 5 4] [7 7 1 ... 9 5 4]\n",
      "0.7079024390243902\n",
      "Iteration:  210\n",
      "[9 7 1 ... 9 5 4] [7 7 1 ... 9 5 4]\n",
      "0.7189756097560975\n",
      "Iteration:  220\n",
      "[9 7 1 ... 9 5 4] [7 7 1 ... 9 5 4]\n",
      "0.7287560975609756\n",
      "Iteration:  230\n",
      "[9 7 1 ... 9 5 4] [7 7 1 ... 9 5 4]\n",
      "0.7374390243902439\n",
      "Iteration:  240\n",
      "[9 7 1 ... 9 5 4] [7 7 1 ... 9 5 4]\n",
      "0.745609756097561\n",
      "Iteration:  250\n",
      "[9 7 1 ... 9 5 4] [7 7 1 ... 9 5 4]\n",
      "0.7525365853658537\n",
      "Iteration:  260\n",
      "[9 7 1 ... 9 5 4] [7 7 1 ... 9 5 4]\n",
      "0.7597804878048781\n",
      "Iteration:  270\n",
      "[9 7 1 ... 9 5 4] [7 7 1 ... 9 5 4]\n",
      "0.7662682926829268\n",
      "Iteration:  280\n",
      "[9 7 1 ... 9 5 4] [7 7 1 ... 9 5 4]\n",
      "0.7720975609756098\n",
      "Iteration:  290\n",
      "[9 7 1 ... 9 5 4] [7 7 1 ... 9 5 4]\n",
      "0.7775121951219512\n",
      "Iteration:  300\n",
      "[9 7 1 ... 9 5 4] [7 7 1 ... 9 5 4]\n",
      "0.7826585365853659\n",
      "Iteration:  310\n",
      "[9 7 1 ... 9 5 4] [7 7 1 ... 9 5 4]\n",
      "0.7875365853658537\n",
      "Iteration:  320\n",
      "[9 7 1 ... 9 5 4] [7 7 1 ... 9 5 4]\n",
      "0.7924146341463415\n",
      "Iteration:  330\n",
      "[9 7 1 ... 9 5 4] [7 7 1 ... 9 5 4]\n",
      "0.7961219512195122\n",
      "Iteration:  340\n",
      "[9 7 1 ... 9 5 4] [7 7 1 ... 9 5 4]\n",
      "0.7998048780487805\n",
      "Iteration:  350\n",
      "[9 7 1 ... 9 5 4] [7 7 1 ... 9 5 4]\n",
      "0.8034146341463415\n",
      "Iteration:  360\n",
      "[9 7 1 ... 9 5 4] [7 7 1 ... 9 5 4]\n",
      "0.8071463414634147\n",
      "Iteration:  370\n",
      "[9 7 1 ... 9 5 4] [7 7 1 ... 9 5 4]\n",
      "0.8103902439024391\n",
      "Iteration:  380\n",
      "[9 7 1 ... 9 5 4] [7 7 1 ... 9 5 4]\n",
      "0.8128048780487804\n",
      "Iteration:  390\n",
      "[9 7 1 ... 9 5 4] [7 7 1 ... 9 5 4]\n",
      "0.8156829268292682\n",
      "Iteration:  400\n",
      "[9 7 1 ... 9 5 4] [7 7 1 ... 9 5 4]\n",
      "0.8183658536585365\n",
      "Iteration:  410\n",
      "[7 7 1 ... 9 5 4] [7 7 1 ... 9 5 4]\n",
      "0.8204878048780487\n",
      "Iteration:  420\n",
      "[7 7 1 ... 9 5 4] [7 7 1 ... 9 5 4]\n",
      "0.8226341463414634\n",
      "Iteration:  430\n",
      "[7 7 1 ... 9 5 4] [7 7 1 ... 9 5 4]\n",
      "0.8249512195121951\n",
      "Iteration:  440\n",
      "[7 7 1 ... 9 5 4] [7 7 1 ... 9 5 4]\n",
      "0.8272439024390243\n",
      "Iteration:  450\n",
      "[7 7 1 ... 9 5 4] [7 7 1 ... 9 5 4]\n",
      "0.8292926829268292\n",
      "Iteration:  460\n",
      "[7 7 1 ... 9 5 4] [7 7 1 ... 9 5 4]\n",
      "0.8318536585365853\n",
      "Iteration:  470\n",
      "[7 7 1 ... 9 5 4] [7 7 1 ... 9 5 4]\n",
      "0.8335609756097561\n",
      "Iteration:  480\n",
      "[7 7 1 ... 9 5 4] [7 7 1 ... 9 5 4]\n",
      "0.8354146341463414\n",
      "Iteration:  490\n",
      "[7 7 1 ... 9 5 4] [7 7 1 ... 9 5 4]\n",
      "0.8368048780487805\n"
     ]
    }
   ],
   "source": [
    "W1, b1, W2, b2 = gradient_descent(X_train, Y_train, 0.10, 500)"
   ]
  }
 ],
 "metadata": {
  "kernelspec": {
   "display_name": "Python 3",
   "language": "python",
   "name": "python3"
  },
  "language_info": {
   "codemirror_mode": {
    "name": "ipython",
    "version": 3
   },
   "file_extension": ".py",
   "mimetype": "text/x-python",
   "name": "python",
   "nbconvert_exporter": "python",
   "pygments_lexer": "ipython3",
   "version": "3.10.10"
  },
  "papermill": {
   "default_parameters": {},
   "duration": 47.857121,
   "end_time": "2023-05-29T20:42:00.147002",
   "environment_variables": {},
   "exception": null,
   "input_path": "__notebook__.ipynb",
   "output_path": "__notebook__.ipynb",
   "parameters": {},
   "start_time": "2023-05-29T20:41:12.289881",
   "version": "2.4.0"
  }
 },
 "nbformat": 4,
 "nbformat_minor": 5
}
